{
 "cells": [
  {
   "cell_type": "code",
   "execution_count": 1,
   "metadata": {},
   "outputs": [],
   "source": [
    "import sys,os\n",
    "sys.path.append(os.path.realpath('..'))\n"
   ]
  },
  {
   "cell_type": "code",
   "execution_count": 2,
   "metadata": {},
   "outputs": [
    {
     "name": "stderr",
     "output_type": "stream",
     "text": [
      "/home/home/dev/odio/.venv/lib/python3.10/site-packages/tqdm/auto.py:21: TqdmWarning: IProgress not found. Please update jupyter and ipywidgets. See https://ipywidgets.readthedocs.io/en/stable/user_install.html\n",
      "  from .autonotebook import tqdm as notebook_tqdm\n",
      "config.json: 100%|██████████| 1.98k/1.98k [00:00<00:00, 2.41MB/s]\n",
      "model.safetensors: 100%|██████████| 290M/290M [00:07<00:00, 41.4MB/s] \n",
      "generation_config.json: 100%|██████████| 3.78k/3.78k [00:00<00:00, 3.21MB/s]\n",
      "preprocessor_config.json: 100%|██████████| 185k/185k [00:00<00:00, 519kB/s]\n",
      "tokenizer_config.json: 100%|██████████| 805/805 [00:00<00:00, 1.05MB/s]\n",
      "vocab.json: 100%|██████████| 836k/836k [00:00<00:00, 1.81MB/s]\n",
      "tokenizer.json: 100%|██████████| 2.48M/2.48M [00:00<00:00, 6.22MB/s]\n",
      "merges.txt: 100%|██████████| 494k/494k [00:00<00:00, 686kB/s]\n",
      "normalizer.json: 100%|██████████| 52.7k/52.7k [00:00<00:00, 233kB/s]\n",
      "added_tokens.json: 100%|██████████| 34.6k/34.6k [00:00<00:00, 306kB/s]\n",
      "special_tokens_map.json: 100%|██████████| 2.08k/2.08k [00:00<00:00, 2.79MB/s]\n"
     ]
    }
   ],
   "source": [
    "from transcribe_service.whisper import Whisper\n",
    "whisper = Whisper()"
   ]
  },
  {
   "cell_type": "code",
   "execution_count": 4,
   "metadata": {},
   "outputs": [],
   "source": [
    "##save model\n",
    "whisper.save(\"/home/home/dev/odio/models/whisper_base\")"
   ]
  },
  {
   "cell_type": "code",
   "execution_count": 13,
   "metadata": {},
   "outputs": [
    {
     "data": {
      "text/plain": [
       "'openai/whisper_base'"
      ]
     },
     "execution_count": 13,
     "metadata": {},
     "output_type": "execute_result"
    }
   ],
   "source": [
    "\"_\".join(str(whisper.model_id).split('-'))"
   ]
  },
  {
   "cell_type": "code",
   "execution_count": 5,
   "metadata": {},
   "outputs": [],
   "source": [
    "pipe = whisper.pipeline()\n",
    "result = pipe(\"/home/home/dev/odio/Audio_Kevin_Folta.wav\")"
   ]
  },
  {
   "cell_type": "code",
   "execution_count": 6,
   "metadata": {},
   "outputs": [
    {
     "data": {
      "text/plain": [
       "[{'timestamp': (0.0, 5.2),\n",
       "  'text': \" Hi, my name is Kevin Fallard and I'm very grateful to have the opportunity to work in public science.\"},\n",
       " {'timestamp': (5.2, 10.4),\n",
       "  'text': \" I'm very fortunate to have been able to be trained by excellent mentors early in my career\"},\n",
       " {'timestamp': (10.4, 17.0),\n",
       "  'text': ' to give me a toolbox to be able to unravel important questions that can help us better understand our physical universe.'},\n",
       " {'timestamp': (17.0, 23.9),\n",
       "  'text': \" I'm really excited about the opportunity to participate in the science that works around agriculture\"},\n",
       " {'timestamp': (23.9, 27.6),\n",
       "  'text': ' and find our ways that we can farm more sustainably,'},\n",
       " {'timestamp': (27.6, 29.52),\n",
       "  'text': ' working in ways that we can help limit'},\n",
       " {'timestamp': (29.52, 31.52), 'text': ' environmental impacts of farming,'},\n",
       " {'timestamp': (31.52, 35.28),\n",
       "  'text': ' but also providing profitable ways for farmers to stay in business.'},\n",
       " {'timestamp': (35.28, 40.0),\n",
       "  'text': \" We're really excited about the technologies that we create creating better foods for the\"},\n",
       " {'timestamp': (40.0, 45.24),\n",
       "  'text': ' American consumer and industrialized world consumer, but also getting the people in need so'},\n",
       " {'timestamp': (45.24, 50.16),\n",
       "  'text': ' that they can have more selection of better fruits and vegetables.'},\n",
       " {'timestamp': (50.16, 56.0),\n",
       "  'text': ' Going forward, I think that the future will depend upon the integration of all technologies at the table.'},\n",
       " {'timestamp': (56.0, 60.0),\n",
       "  'text': \" And it's really important that we pay attention to this new breakthroughs\"},\n",
       " {'timestamp': (60.0, 63.0),\n",
       "  'text': ' and integrate them into our agricultural schemes.'},\n",
       " {'timestamp': (63.0, 67.0),\n",
       "  'text': ' The future of agriculture and medicine room really relies on us'},\n",
       " {'timestamp': (67.0, 72.0),\n",
       "  'text': ' being open to all new solutions and using all of them to solve our problems'},\n",
       " {'timestamp': (72.0, 74.0),\n",
       "  'text': ' to have better planet and better people.'}]"
      ]
     },
     "execution_count": 6,
     "metadata": {},
     "output_type": "execute_result"
    }
   ],
   "source": [
    "result['chunks']"
   ]
  }
 ],
 "metadata": {
  "kernelspec": {
   "display_name": ".venv",
   "language": "python",
   "name": "python3"
  },
  "language_info": {
   "codemirror_mode": {
    "name": "ipython",
    "version": 3
   },
   "file_extension": ".py",
   "mimetype": "text/x-python",
   "name": "python",
   "nbconvert_exporter": "python",
   "pygments_lexer": "ipython3",
   "version": "3.10.13"
  }
 },
 "nbformat": 4,
 "nbformat_minor": 2
}
